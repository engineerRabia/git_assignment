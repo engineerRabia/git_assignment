{
 "cells": [
  {
   "cell_type": "markdown",
   "metadata": {},
   "source": [
    "# Q1:"
   ]
  },
  {
   "cell_type": "markdown",
   "metadata": {},
   "source": [
    "Think of at least three kinds of your favorite pizza. Store these pizza names in a list, and then use a for loop to print the name of each pizza."
   ]
  },
  {
   "cell_type": "code",
   "execution_count": 12,
   "metadata": {},
   "outputs": [
    {
     "name": "stdout",
     "output_type": "stream",
     "text": [
      "arabic green\n",
      "chicken fajita\n",
      "pepperoni\n"
     ]
    }
   ],
   "source": [
    "my_list = [\"arabic green\", \"chicken fajita\", \"pepperoni\"]\n",
    "for pizza in my_list:\n",
    "    print(pizza)"
   ]
  },
  {
   "cell_type": "markdown",
   "metadata": {},
   "source": [
    "# Q2"
   ]
  },
  {
   "cell_type": "markdown",
   "metadata": {},
   "source": [
    "Start with your last question , Modify your for loop to print a sentence using the name of the pizza\n",
    "instead of printing just the name of the pizza. For each pizza you should\n",
    "have one line of output containing a simple statement like I like pepperoni\n",
    "pizza."
   ]
  },
  {
   "cell_type": "code",
   "execution_count": 11,
   "metadata": {},
   "outputs": [
    {
     "name": "stdout",
     "output_type": "stream",
     "text": [
      "i really like arabic green pizza. \n",
      "i hate arabic greenpizza. \n",
      "i really like  chicken fajita pizza. \n",
      "i hate  chicken fajitapizza. \n",
      "i really like pepperoni pizza. \n",
      "i hate pepperonipizza. \n"
     ]
    }
   ],
   "source": [
    "my_list = [\"arabic green\", \" chicken fajita\", \"pepperoni\"]\n",
    "for pizza in my_list:\n",
    "    print(\"i really like \" + pizza + \" pizza. \")\n",
    "    print(\"i hate \" + pizza + \"pizza. \")"
   ]
  },
  {
   "cell_type": "markdown",
   "metadata": {},
   "source": [
    "# Q3:"
   ]
  },
  {
   "cell_type": "markdown",
   "metadata": {},
   "source": [
    "Use a for loop to print the numbers from 1 to 20,\n",
    "inclusive."
   ]
  },
  {
   "cell_type": "code",
   "execution_count": 34,
   "metadata": {},
   "outputs": [
    {
     "name": "stdout",
     "output_type": "stream",
     "text": [
      "1\n",
      "2\n",
      "3\n",
      "4\n",
      "5\n",
      "6\n",
      "7\n",
      "8\n",
      "9\n",
      "10\n",
      "11\n",
      "12\n",
      "13\n",
      "14\n",
      "15\n",
      "16\n",
      "17\n",
      "18\n",
      "19\n",
      "20\n"
     ]
    }
   ],
   "source": [
    "for number in range(1,21):\n",
    "    print(number,)"
   ]
  },
  {
   "cell_type": "markdown",
   "metadata": {},
   "source": [
    "# Q4:"
   ]
  },
  {
   "cell_type": "markdown",
   "metadata": {},
   "source": [
    "Use the third argument of the range() function to make a list\n",
    "of the odd numbers from 1 to 20. Use a for loop to print each number."
   ]
  },
  {
   "cell_type": "code",
   "execution_count": 35,
   "metadata": {},
   "outputs": [
    {
     "name": "stdout",
     "output_type": "stream",
     "text": [
      "1\n",
      "3\n",
      "5\n",
      "7\n",
      "9\n",
      "11\n",
      "13\n",
      "15\n",
      "17\n",
      "19\n"
     ]
    }
   ],
   "source": [
    "for a in range(1,20,2):\n",
    "    print(a)"
   ]
  },
  {
   "cell_type": "markdown",
   "metadata": {},
   "source": [
    "# Q5:"
   ]
  },
  {
   "cell_type": "markdown",
   "metadata": {},
   "source": [
    "Make a list of the multiples of 3 from 3 to 30. Use a for loop to\n",
    "print the numbers in your list."
   ]
  },
  {
   "cell_type": "code",
   "execution_count": 8,
   "metadata": {},
   "outputs": [],
   "source": [
    "three = list(range(3, 31, 3))"
   ]
  },
  {
   "cell_type": "code",
   "execution_count": 10,
   "metadata": {},
   "outputs": [
    {
     "name": "stdout",
     "output_type": "stream",
     "text": [
      "3\n",
      "6\n",
      "9\n",
      "12\n",
      "15\n",
      "18\n",
      "21\n",
      "24\n",
      "27\n",
      "30\n"
     ]
    }
   ],
   "source": [
    "for t in three:\n",
    "    print(t)"
   ]
  },
  {
   "cell_type": "markdown",
   "metadata": {},
   "source": [
    "# Q6:"
   ]
  },
  {
   "cell_type": "markdown",
   "metadata": {},
   "source": [
    "A number raised to the third power is called a cube. For example,\n",
    "the cube of 2 is written as 2**3 in Python. Make a list of the first 10 cubes (that\n",
    "is, the cube of each integer from 1 through 10), and use a for loop to print out\n",
    "the value of each cube"
   ]
  },
  {
   "cell_type": "code",
   "execution_count": 37,
   "metadata": {},
   "outputs": [
    {
     "name": "stdout",
     "output_type": "stream",
     "text": [
      "1\n",
      "8\n",
      "27\n",
      "64\n",
      "125\n",
      "216\n",
      "343\n",
      "512\n",
      "729\n"
     ]
    }
   ],
   "source": [
    "cubes = [number ** 3 for number in range(1,10)]\n",
    "for cube in cubes:\n",
    "    print(cube)"
   ]
  },
  {
   "cell_type": "markdown",
   "metadata": {},
   "source": [
    "# Q7:"
   ]
  },
  {
   "cell_type": "markdown",
   "metadata": {},
   "source": [
    "###### Make a python program that conatains your nine favourite dishes in a list called foods.\n",
    "\n",
    "###### Print the message, The first three items in the list are:. \n",
    "###### Then use a slice to print the first three items from that program’s list.\n",
    "\n",
    "###### Print the message, Three items from the middle of the list are:\n",
    "###### Use a slice to print three items from the middle of the list.\n",
    "\n",
    "###### Print the message, The last three items in the list are:\n",
    "###### Use a slice to print the last three items in the list."
   ]
  },
  {
   "cell_type": "code",
   "execution_count": 38,
   "metadata": {},
   "outputs": [],
   "source": [
    "foods = [\"chicken munchurian\", \"biryani\", \"chicken karahi\", \"bar B.Q\", \"qorma\", \"daleem\", \"pulao\", \"zinger burger\", \"chapli kabab\"]\n",
    "    "
   ]
  },
  {
   "cell_type": "code",
   "execution_count": 39,
   "metadata": {},
   "outputs": [
    {
     "name": "stdout",
     "output_type": "stream",
     "text": [
      "the first three items in the list are:\n",
      "chicken munchurian\n",
      "biryani\n",
      "chicken karahi\n"
     ]
    }
   ],
   "source": [
    "print(\"the first three items in the list are:\")    \n",
    "\n",
    "for item in foods[:3]:\n",
    "    print(item)"
   ]
  },
  {
   "cell_type": "code",
   "execution_count": 40,
   "metadata": {},
   "outputs": [
    {
     "name": "stdout",
     "output_type": "stream",
     "text": [
      "three items from the middle of the list are:\n",
      "bar B.Q\n",
      "qorma\n",
      "daleem\n"
     ]
    }
   ],
   "source": [
    "print(\"three items from the middle of the list are:\")\n",
    "\n",
    "for item in foods[3:6]:\n",
    "    print(item)"
   ]
  },
  {
   "cell_type": "code",
   "execution_count": 41,
   "metadata": {},
   "outputs": [
    {
     "name": "stdout",
     "output_type": "stream",
     "text": [
      "the last three items in the list are:\n",
      "pulao\n",
      "zinger burger\n",
      "chapli kabab\n"
     ]
    }
   ],
   "source": [
    "print(\"the last three items in the list are:\")\n",
    "\n",
    "for item in foods[6:9]:\n",
    "    print(item)\n",
    "    "
   ]
  },
  {
   "cell_type": "markdown",
   "metadata": {},
   "source": [
    "# Q8:"
   ]
  },
  {
   "cell_type": "markdown",
   "metadata": {},
   "source": [
    "### Start with your program from your last Question8.\n",
    "###### Make a copy of the list of foods, and call it friend_foods.\n",
    "###### Then, do the following:\n",
    "######    Add a new dish to the original list.\n",
    "######    Add a different dish to the list friend_foodss.\n",
    "######    Prove that you have two separate lists. \n",
    "###### Print the message, My favorite pizzas are: and then use a for loop to print the first list. \n",
    "###### Print the message,\n",
    "###### My friend’s favorite foods are:, and then use a for loop to print the second list.\n",
    "    \n",
    "##### NOTE: Make sure each new dish is stored in the appropriate list."
   ]
  },
  {
   "cell_type": "code",
   "execution_count": 45,
   "metadata": {},
   "outputs": [],
   "source": [
    "friend_foods = [\"chicken munchurian\", \"biryani\", \"chicken karahi\", \"bar B.Q\", \"qorma\", \"daleem\", \"pulao\", \"zinger burger\", \"chapli kabab\", \"nehari\"]   "
   ]
  },
  {
   "cell_type": "code",
   "execution_count": 46,
   "metadata": {},
   "outputs": [],
   "source": [
    "friend_foodss = [\"chicken munchurian\", \"biryani\", \"chicken karahi\", \"bar B.Q\", \"qorma\", \"daleem\", \"pulao\", \"zinger burger\", \"chapli kabab\",\"aloo gosht\"]"
   ]
  },
  {
   "cell_type": "code",
   "execution_count": 3,
   "metadata": {},
   "outputs": [
    {
     "name": "stdout",
     "output_type": "stream",
     "text": [
      "chicken munchurian\n",
      "biryani\n",
      "chicken karahi\n",
      "bar B.Q\n",
      "qorma\n",
      "daleem\n",
      "pulao\n",
      "zinger burger\n",
      "chapli kabab\n",
      "nehari\n"
     ]
    }
   ],
   "source": [
    "my_favorite_foods_are = [\"chicken munchurian\", \"biryani\", \"chicken karahi\", \"bar B.Q\", \"qorma\", \"daleem\", \"pulao\", \"zinger burger\", \"chapli kabab\", \"nehari\"]  \n",
    "for i in my_favorite_foods_are:\n",
    "    print(i)"
   ]
  },
  {
   "cell_type": "code",
   "execution_count": 50,
   "metadata": {},
   "outputs": [
    {
     "name": "stdout",
     "output_type": "stream",
     "text": [
      "chicken munchurian\n",
      "birayni\n",
      "chicken karahi\n",
      "bar B.Q\n",
      "qorma\n",
      "daleem\n",
      "pulao\n",
      "zinger burger\n",
      "chapli kabab\n",
      "aloo gosht\n"
     ]
    }
   ],
   "source": [
    "my_friends_favorite_foods_are = [\"chicken munchurian\", \"birayni\", \"chicken karahi\", \"bar B.Q\", \"qorma\", \"daleem\", \"pulao\", \"zinger burger\", \"chapli kabab\", \"aloo gosht\"]\n",
    "for i in my_friends_favorite_foods_are:\n",
    "    print(i)"
   ]
  },
  {
   "cell_type": "markdown",
   "metadata": {},
   "source": [
    "# Q9:"
   ]
  },
  {
   "cell_type": "markdown",
   "metadata": {},
   "source": [
    "Take a user input from console line.Store it in a variable called Alien_color.\n",
    "\n",
    "If the alien’s color is red, print a statement that the player just earned 5 points for shooting the alien.\n",
    "\n",
    "If the alien’s color isn’t green, print a statement that the player just earned 10 points.\n",
    "\n",
    "If the alien's color isn't red or green , print a statment :, Alien is no more....."
   ]
  },
  {
   "cell_type": "code",
   "execution_count": 2,
   "metadata": {},
   "outputs": [
    {
     "name": "stdout",
     "output_type": "stream",
     "text": [
      "enter alien colorred\n",
      "the player just earned 5 points for the shooting.\n"
     ]
    }
   ],
   "source": [
    "alien_color = input(\"enter alien color\")\n",
    "alien_color = alien_color.lower()\n",
    "\n",
    "if alien_color == \"red\":\n",
    "    print(\"the player just earned 5 points for the shooting.\")\n",
    "elif alien_color != \"green\":\n",
    "    print(\"the player just earned 10 points.\")\n",
    "else:\n",
    "    (\"alien is no more\")"
   ]
  },
  {
   "cell_type": "markdown",
   "metadata": {},
   "source": [
    "# Q10"
   ]
  },
  {
   "cell_type": "markdown",
   "metadata": {},
   "source": [
    "#### Write an if-elif-else chain that determines a person’s\n",
    "stage of life. Set a value for the variable age, and then:\n",
    "    \n",
    "•\t If the person is less than 2 years old, print a message that the person is a baby.\n",
    "\n",
    "•\t If the person is at least 2 years old but less than 4, print a message that the person is a toddler.\n",
    "\n",
    "•\t If the person is at least 4 years old but less than 13, print a message that the person is a kid.\n",
    "\n",
    "•\t If the person is at least 13 years old but less than 20, print a message that the person is a teenager.\n",
    "\n",
    "•\t If the person is at least 20 years old but less than 65, print a message that the person is an adult.\n",
    "\n",
    "•\t If the person is age 65 or older, print a message that the person is an elder."
   ]
  },
  {
   "cell_type": "code",
   "execution_count": 1,
   "metadata": {},
   "outputs": [
    {
     "name": "stdout",
     "output_type": "stream",
     "text": [
      "variable age21\n",
      "a person is an adult\n"
     ]
    }
   ],
   "source": [
    "age=int(input(\"variable age\"))\n",
    "if age<2:\n",
    "    print(\"a person is a babay\")\n",
    "if age<=4:\n",
    "    print(\"a person is a toddler\")\n",
    "if age >=4 and age <=13:\n",
    "    print(\"a prson is a kid\")\n",
    "if age >13 and age <20:\n",
    "    print(\"a person is a teenager\")\n",
    "if age >=20 and age <65:\n",
    "    print(\"a person is an adult\")\n",
    "if age >=65:\n",
    "    print(\"a person is an elder\")"
   ]
  },
  {
   "cell_type": "markdown",
   "metadata": {},
   "source": [
    "# Q11:"
   ]
  },
  {
   "cell_type": "markdown",
   "metadata": {},
   "source": [
    "Do the following to create a program that simulates how websites ensure that everyone has a unique username.\n",
    "\n",
    "•\t Make a list of five or more usernames called current_users.\n",
    "\n",
    "•\t Make another list of five usernames called new_users. \n",
    "Make sure one or two of the new usernames are also in the current_users list.\n",
    "\n",
    "•\t Loop through the new_users list to see if each new username has already been used. \n",
    "If it has, print a message that the person will need to enter a new username. \n",
    "If a username has not been used, print a message saying that the username is available.\n",
    "\n",
    "•\t Make sure your comparison is case insensitive. If 'John' has been used, 'JOHN' should not be accepted."
   ]
  },
  {
   "cell_type": "code",
   "execution_count": 35,
   "metadata": {},
   "outputs": [],
   "source": [
    "current_users=[\"sana\", \"aliya\", \"fakhar\", \"fatima\", \"shiza\", \"saad\"]"
   ]
  },
  {
   "cell_type": "code",
   "execution_count": 36,
   "metadata": {},
   "outputs": [],
   "source": [
    "new_users=[\"faiza\", \"aliya\", \"farhan\", \"shiza\", \"naima\", \"amina\", \"feroz\"]"
   ]
  },
  {
   "cell_type": "code",
   "execution_count": 37,
   "metadata": {},
   "outputs": [],
   "source": [
    "current_users_lower=[user.lower() for user in current_users]"
   ]
  },
  {
   "cell_type": "code",
   "execution_count": 39,
   "metadata": {},
   "outputs": [
    {
     "name": "stdout",
     "output_type": "stream",
     "text": [
      "sorry aliya,username has already been used.\n",
      "sorry shiza,username has already been used.\n",
      "congratulations, feroz is available yet\n"
     ]
    }
   ],
   "source": [
    "for new_user in new_users:\n",
    "    if new_user.lower()in current_users_lower:\n",
    "        print(\"sorry \"+ new_user +\",username has already been used.\")\n",
    "else:print(\"congratulations, \"+ new_user + \" is available yet\")"
   ]
  },
  {
   "cell_type": "markdown",
   "metadata": {},
   "source": [
    "# Q12:"
   ]
  },
  {
   "cell_type": "markdown",
   "metadata": {},
   "source": [
    "Use a dictionary to store information about a person you know.\n",
    "Store their first name, last name, age, and the city in which they live. \n",
    "You should have keys such as first_name, last_name, age, and city. \n",
    "Print each piece of information stored in your dictionary"
   ]
  },
  {
   "cell_type": "code",
   "execution_count": 20,
   "metadata": {},
   "outputs": [],
   "source": [
    "cousin_dict = {\"first_name\":\"farah\",\"last_name\":\"ali\",\"age\":\"22\",\"city\":\"lahore\"}"
   ]
  },
  {
   "cell_type": "code",
   "execution_count": 21,
   "metadata": {},
   "outputs": [
    {
     "name": "stdout",
     "output_type": "stream",
     "text": [
      "farah\n",
      "ali\n",
      "22\n",
      "lahore\n"
     ]
    }
   ],
   "source": [
    "print(cousin_dict[\"first_name\"])\n",
    "print(cousin_dict[\"last_name\"])\n",
    "print(cousin_dict[\"age\"])\n",
    "print(cousin_dict[\"city\"])"
   ]
  },
  {
   "cell_type": "markdown",
   "metadata": {},
   "source": [
    "# Q13:"
   ]
  },
  {
   "cell_type": "markdown",
   "metadata": {},
   "source": [
    "Starts with your last question 12 , loop through the dictionary’s keys and values.\n",
    "When you’re sure that your loop works, add five more Python terms to your\n",
    "dictionary . When you run your program again, these new words and meanings\n",
    "should automatically be included in the output."
   ]
  },
  {
   "cell_type": "code",
   "execution_count": 22,
   "metadata": {},
   "outputs": [],
   "source": [
    "cousin_dict = {\"first_name\":\"farah\",\"last_name\":\"ali\",\"age\":\"22\",\"city\":\"lahore\"}"
   ]
  },
  {
   "cell_type": "code",
   "execution_count": 25,
   "metadata": {},
   "outputs": [
    {
     "name": "stdout",
     "output_type": "stream",
     "text": [
      "first_name: farah\n",
      "last_name: ali\n",
      "age: 22\n",
      "city: lahore\n",
      "father name: muhammad ali\n",
      "CNIC: 42101-8346567-0\n",
      "status: single\n",
      "work: finance manager\n",
      "current city: karachi\n"
     ]
    }
   ],
   "source": [
    "cousin_dict[\"father name\"]=\"muhammad ali\"\n",
    "cousin_dict[\"CNIC\"]=\"42101-8346567-0\"\n",
    "cousin_dict[\"status\"]=\"single\"\n",
    "cousin_dict[\"work\"]=\"finance manager\"\n",
    "cousin_dict[\"current city\"]=\"karachi\"\n",
    "\n",
    "for keys,values in cousin_dict.items():\n",
    "    print(f\"{keys}: {values}\")"
   ]
  },
  {
   "cell_type": "markdown",
   "metadata": {},
   "source": [
    "# Q14:"
   ]
  },
  {
   "cell_type": "markdown",
   "metadata": {},
   "source": [
    "Make a dictionary containing three major rivers and the country\n",
    "each river runs through. One key-value pair might be 'nile': 'egypt'.\n",
    "    \n",
    "    \n",
    "•\t Use a loop to print a sentence about each river, such as The Nile runs\n",
    "through Egypt.\n",
    "\n",
    "NOTE: use upper case through keys and values."
   ]
  },
  {
   "cell_type": "code",
   "execution_count": 28,
   "metadata": {},
   "outputs": [
    {
     "name": "stdout",
     "output_type": "stream",
     "text": [
      "the RIVER INDUS runs through PAKISTAN\n",
      "the JAMNA runs through INDIA\n",
      "the AMSTEL runs through NETHERLAND\n"
     ]
    }
   ],
   "source": [
    "rivers = {\"river indus\" : \"pakistan\" ,\"jamna\" : \"india\" , \"amstel\" : \"netherland\"}\n",
    "for key,value in rivers.items():\n",
    "    print(f\"the {key.upper()} runs through {value.upper()}\")"
   ]
  },
  {
   "cell_type": "markdown",
   "metadata": {},
   "source": [
    "# Q15:"
   ]
  },
  {
   "cell_type": "markdown",
   "metadata": {},
   "source": [
    "Make several dictionaries, where the name of each dictionary is the\n",
    "name of a pet. In each dictionary, include the kind of animal and the owner’s\n",
    "name. Store these dictionaries in a list called pets. Next, loop through your list\n",
    "and as you do print everything you know about each pet."
   ]
  },
  {
   "cell_type": "code",
   "execution_count": 31,
   "metadata": {},
   "outputs": [
    {
     "name": "stdout",
     "output_type": "stream",
     "text": [
      "\n",
      "pet_animal:cat\n",
      "\n",
      "owner_name:sofia\n",
      "\n",
      "pet_animal:dog\n",
      "\n",
      "owner_name:john\n",
      "\n",
      "pet_animal:goat\n",
      "\n",
      "owner_name:aliya\n",
      "\n",
      "pet_animal:snake\n",
      "\n",
      "owner_name:sana\n",
      "\n",
      "pet_animal:kitten\n",
      "\n",
      "owner_name:maira\n"
     ]
    }
   ],
   "source": [
    "pet=[]\n",
    "kitty={\"pet_animal\": \"cat\",\"owner_name\" : \"sofia\"}\n",
    "pet.append(kitty)\n",
    "pluto={\"pet_animal\" : \"dog\" , \"owner_name\" : \"john\"}\n",
    "pet.append(pluto)\n",
    "bruno={\"pet_animal\" : \"goat\" , \"owner_name\" : \"aliya\"}\n",
    "pet.append(bruno)\n",
    "dino={\"pet_animal\" : \"snake\" , \"owner_name\" : \"sana\"}\n",
    "pet.append(dino)\n",
    "lucci={\"pet_animal\" : \"kitten\" , \"owner_name\" : \"maira\"}\n",
    "pet.append(lucci)\n",
    "for animals in pet:\n",
    "    for key,value in animals.items():\n",
    "        print(f\"\\n{key}:{value}\")"
   ]
  }
 ],
 "metadata": {
  "kernelspec": {
   "display_name": "Python 3",
   "language": "python",
   "name": "python3"
  },
  "language_info": {
   "codemirror_mode": {
    "name": "ipython",
    "version": 3
   },
   "file_extension": ".py",
   "mimetype": "text/x-python",
   "name": "python",
   "nbconvert_exporter": "python",
   "pygments_lexer": "ipython3",
   "version": "3.7.3"
  }
 },
 "nbformat": 4,
 "nbformat_minor": 2
}
